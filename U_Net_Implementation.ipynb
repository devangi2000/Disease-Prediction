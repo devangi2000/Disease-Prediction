{
  "nbformat": 4,
  "nbformat_minor": 0,
  "metadata": {
    "colab": {
      "name": "U-Net-Implementation.ipynb",
      "provenance": [],
      "authorship_tag": "ABX9TyPtXs8RHEYOKCyVfWzZF7pJ",
      "include_colab_link": true
    },
    "kernelspec": {
      "name": "python3",
      "display_name": "Python 3"
    }
  },
  "cells": [
    {
      "cell_type": "markdown",
      "metadata": {
        "id": "view-in-github",
        "colab_type": "text"
      },
      "source": [
        "<a href=\"https://colab.research.google.com/github/devangi2000/Disease-Prediction/blob/master/U_Net_Implementation.ipynb\" target=\"_parent\"><img src=\"https://colab.research.google.com/assets/colab-badge.svg\" alt=\"Open In Colab\"/></a>"
      ]
    },
    {
      "cell_type": "markdown",
      "metadata": {
        "id": "EYfjq1xSN5Ah"
      },
      "source": [
        "## U-Net model\n",
        "We'll be using a network architecture called \"U-Net\". The name of this network architecture comes from it's U-like shape when shown in a diagram like this (image from [U-net entry on wikipedia](https://en.wikipedia.org/wiki/U-Net)): \n",
        "\n",
        "![image.png](data:image/png;base64,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)\n",
        "\n",
        "U-nets are commonly used for image segmentation. \n",
        "\n",
        "As you can see from the diagram, this architecture features a series of down-convolutions connected by max-pooling operations, followed by a series of up-convolutions connected by upsampling and concatenation operations. Each of the down-convolutions is also connected directly to the concatenation operations in the upsampling portion of the network. For more detail on the U-Net architecture, have a look at the original [U-Net paper by Ronneberger et al. 2015](https://arxiv.org/abs/1505.04597).  "
      ]
    },
    {
      "cell_type": "code",
      "metadata": {
        "id": "Ghh_mWItN4cG",
        "outputId": "6a76929f-76d5-4ced-ae7d-2a5ded8d4239",
        "colab": {
          "base_uri": "https://localhost:8080/",
          "height": 158
        }
      },
      "source": [
        "# Import the elements you'll need to build your U-Net\n",
        "!pip install keras==2.3.1\n",
        "#import tensorflow as tf\n",
        "import keras\n",
        "from keras import backend as K\n",
        "from keras.engine import Input, Model\n",
        "from keras.layers import Conv3D, MaxPooling3D, UpSampling3D, Activation, BatchNormalization, PReLU , Deconvolution3D\n",
        "from keras.optimizers import Adam\n",
        "from keras.layers.merge import concatenate\n",
        "# Set the image shape to have the channels in the first dimension\n",
        "K.set_image_data_format(\"channels_first\")"
      ],
      "execution_count": 8,
      "outputs": [
        {
          "output_type": "stream",
          "text": [
            "Requirement already satisfied: keras==2.3.1 in /usr/local/lib/python3.6/dist-packages (2.3.1)\n",
            "Requirement already satisfied: h5py in /usr/local/lib/python3.6/dist-packages (from keras==2.3.1) (2.10.0)\n",
            "Requirement already satisfied: pyyaml in /usr/local/lib/python3.6/dist-packages (from keras==2.3.1) (3.13)\n",
            "Requirement already satisfied: keras-preprocessing>=1.0.5 in /usr/local/lib/python3.6/dist-packages (from keras==2.3.1) (1.1.2)\n",
            "Requirement already satisfied: scipy>=0.14 in /usr/local/lib/python3.6/dist-packages (from keras==2.3.1) (1.4.1)\n",
            "Requirement already satisfied: six>=1.9.0 in /usr/local/lib/python3.6/dist-packages (from keras==2.3.1) (1.15.0)\n",
            "Requirement already satisfied: numpy>=1.9.1 in /usr/local/lib/python3.6/dist-packages (from keras==2.3.1) (1.18.5)\n",
            "Requirement already satisfied: keras-applications>=1.0.6 in /usr/local/lib/python3.6/dist-packages (from keras==2.3.1) (1.0.8)\n"
          ],
          "name": "stdout"
        }
      ]
    },
    {
      "cell_type": "markdown",
      "metadata": {
        "id": "voyMUEZTOy5z"
      },
      "source": [
        "### The \"depth\" of your U-Net\n",
        "The \"depth\" of your U-Net is equal to the number of down-convolutions you will use. In the image above, the depth is 4 because there are 4 down-convolutions running down the left side including the very bottom of the U.\n",
        "\n",
        "I've used a U-Net depth of 2, meaning there are 2 down-convolutions in the network. \n",
        "\n",
        "### Input layer and its \"depth\"\n",
        "\n",
        "I will be doing 3D image segmentation, which is to say that, in addition to \"height\" and \"width\", the input layer will also have a \"length\". We are deliberately using the word \"length\" instead of \"depth\" here to describe the third spatial dimension of the input so as not to confuse it with the depth of the network as defined above.\n",
        "\n",
        "The shape of the input layer is `(num_channels, height, width, length)`, where `num_channels` you can think of like color channels in an image, `height`, `width` and `length` are just the size of the input.\n",
        "\n",
        "Here, the values will be:\n",
        "- num_channels: 4\n",
        "- height: 160\n",
        "- width: 160\n",
        "- length: 16"
      ]
    },
    {
      "cell_type": "code",
      "metadata": {
        "id": "4MG8F3a5M0MQ",
        "outputId": "fd01623d-73f1-4ff1-de1b-373acd1fca00",
        "colab": {
          "base_uri": "https://localhost:8080/",
          "height": 34
        }
      },
      "source": [
        "# Define an input layer tensor of the shape you'll use in the assignment\n",
        "input_layer = Input(shape=(4, 160, 160, 16))\n",
        "input_layer"
      ],
      "execution_count": 9,
      "outputs": [
        {
          "output_type": "execute_result",
          "data": {
            "text/plain": [
              "<tf.Tensor 'input_2:0' shape=(None, 4, 160, 160, 16) dtype=float32>"
            ]
          },
          "metadata": {
            "tags": []
          },
          "execution_count": 9
        }
      ]
    },
    {
      "cell_type": "markdown",
      "metadata": {
        "id": "twl3D-Y2P6ie"
      },
      "source": [
        "Notice that the tensor shape has a '?' as the very first dimension.  This will be the batch size. So the dimensions of the tensor are: (batch_size, num_channels, height, width, length)"
      ]
    },
    {
      "cell_type": "code",
      "metadata": {
        "id": "lcJkNRFDQhm9",
        "outputId": "2ee2ff6b-3e6e-4f97-ed0a-17fcf4efa340",
        "colab": {
          "base_uri": "https://localhost:8080/",
          "height": 35
        }
      },
      "source": [
        "keras.__version__"
      ],
      "execution_count": 10,
      "outputs": [
        {
          "output_type": "execute_result",
          "data": {
            "application/vnd.google.colaboratory.intrinsic+json": {
              "type": "string"
            },
            "text/plain": [
              "'2.3.1'"
            ]
          },
          "metadata": {
            "tags": []
          },
          "execution_count": 10
        }
      ]
    },
    {
      "cell_type": "markdown",
      "metadata": {
        "id": "JeSBLpfDRcyV"
      },
      "source": [
        "## Contracting (downward) path \n",
        "Here you'll start by constructing the downward path in your network (the left side of the U-Net).  The `(height, width, length)` of the input gets smaller as you move down this path, and the number of channels increases.\n",
        "\n",
        "### Depth 0\n",
        "\n",
        "By \"depth 0\" here, we're referring to the depth of the first down-convolution in the U-net.\n",
        "\n",
        "The number of filters is specified for each depth and for each layer within that depth.\n",
        "\n",
        "The formula to use for calculating the number of filters is:\n",
        "$$filters_{i} = 32 \\times (2^{i})$$\n",
        "\n",
        "Where $i$ is the current depth.\n",
        "\n",
        "So at depth $i=0$:\n",
        "$$filters_{0} = 32 \\times (2^{0}) = 32$$\n",
        "\n",
        "### Layer 0\n",
        "There are two convolutional layers for each depth"
      ]
    },
    {
      "cell_type": "code",
      "metadata": {
        "id": "qGkCRzaqRCsR"
      },
      "source": [
        "# Define a Conv3D tensor with 32 filters\n",
        "down_depth_0_layer_0 = Conv3D(filters=32, \n",
        "                              kernel_size=(3,3,3),\n",
        "                              padding='same',\n",
        "                              strides=(1,1,1)\n",
        "                              )(input_layer)\n",
        "down_depth_0_layer_0"
      ],
      "execution_count": 11,
      "outputs": []
    },
    {
      "cell_type": "markdown",
      "metadata": {
        "id": "rT5_gpWYTSx_"
      },
      "source": [
        "Notice that with 32 filters, the result you get above is a tensor with 32 channels.\n",
        "\n",
        "Run the next cell to add a relu activation to the first convolutional layer"
      ]
    },
    {
      "cell_type": "code",
      "metadata": {
        "id": "TOVanXFtS4hq"
      },
      "source": [
        "# Add a relu activation to layer 0 of depth 0\n",
        "down_depth_0_layer_0 = Activation('relu')(down_depth_0_layer_0)\n",
        "down_depth_0_layer_0"
      ],
      "execution_count": 11,
      "outputs": []
    },
    {
      "cell_type": "markdown",
      "metadata": {
        "id": "MGCCiQUXWcg0"
      },
      "source": [
        "### Depth 0, Layer 1\n",
        "For layer 1 of depth 0, the formula for calculating the number of filters is:\n",
        "$$filters_{i} = 32 \\times (2^{i}) \\times 2$$\n",
        "\n",
        "Where $i$ is the current depth. \n",
        "- Notice that the '$\\times~2$' at the end of this expression isn't there for layer 0.\n",
        "\n",
        "\n",
        "So at depth $i=0$ for layer 1:\n",
        "$$filters_{0} = 32 \\times (2^{0}) \\times 2 = 64$$\n"
      ]
    },
    {
      "cell_type": "code",
      "metadata": {
        "id": "xfSnaW97WcAC"
      },
      "source": [
        "# Create a Conv3D layer with 64 filters and add relu activation\n",
        "down_depth_0_layer_1 = Conv3D(filters=64, \n",
        "                kernel_size=(3,3,3),\n",
        "                padding='same',\n",
        "                strides=(1,1,1)\n",
        "               )(down_depth_0_layer_0)\n",
        "down_depth_0_layer_1 = Activation('relu')(down_depth_0_layer_1)\n",
        "down_depth_0_layer_1"
      ],
      "execution_count": null,
      "outputs": []
    },
    {
      "cell_type": "markdown",
      "metadata": {
        "id": "PFxPLzCfWoSt"
      },
      "source": [
        "### Max pooling\n",
        "Within the U-Net architecture, there is a max pooling operation after each of the down-convolutions (not including the last down-convolution at the bottom of the U). In general, this means you'll add max pooling after each down-convolution up to (but not including) the `depth - 1` down-convolution (since you started counting at 0). \n",
        "\n",
        "Here:\n",
        "- The overall depth of the U-Net we're constructing is 2\n",
        "- So the bottom of our U is at a depth index of: $2-1 = 1$.\n",
        "- So far we've only defined the $depth=0$ down-convolutions, so the next thing to do is add max pooling"
      ]
    },
    {
      "cell_type": "code",
      "metadata": {
        "id": "Mlxsc7fYTZ7g"
      },
      "source": [
        "# Define a max pooling layer\n",
        "down_depth_0_layer_pool = MaxPooling3D(pool_size=(2,2,2))(down_depth_0_layer_1)\n",
        "down_depth_0_layer_pool"
      ],
      "execution_count": null,
      "outputs": []
    },
    {
      "cell_type": "markdown",
      "metadata": {
        "id": "iQ-UX0vWW-nh"
      },
      "source": [
        "### Depth 1, Layer 0\n",
        "\n",
        "At depth 1, layer 0, the formula for calculating the number of filters is:\n",
        "$$filters_{i} = 32 \\times (2^{i})$$\n",
        "\n",
        "Where $i$ is the current depth.\n",
        "\n",
        "So at depth $i=1$:\n",
        "$$filters_{1} = 32 \\times (2^{1}) = 64$$\n",
        "\n",
        "Run the next cell to add a Conv3D layer to your network with relu activation"
      ]
    },
    {
      "cell_type": "code",
      "metadata": {
        "id": "V4YZnu9_XDzp"
      },
      "source": [
        "# Add a Conv3D layer to your network with relu activation\n",
        "down_depth_1_layer_0 = Conv3D(filters=64, \n",
        "                kernel_size=(3,3,3),\n",
        "                padding='same',\n",
        "                strides=(1,1,1)\n",
        "               )(down_depth_0_layer_pool)\n",
        "down_depth_1_layer_0 = Activation('relu')(down_depth_1_layer_0)\n",
        "down_depth_1_layer_0"
      ],
      "execution_count": null,
      "outputs": []
    },
    {
      "cell_type": "markdown",
      "metadata": {
        "id": "SkiDo0NCXH0L"
      },
      "source": [
        "### Depth 1,  Layer 1\n",
        "\n",
        "For layer 1 of depth 1 the formula you'll use for number of filters is:\n",
        "$$filters_{i} = 32 \\times (2^{i}) \\times 2$$\n",
        "\n",
        "Where $i$ is the current depth. \n",
        "- Notice that the '$\\times 2$' at the end of this expression isn't there for layer 0.\n",
        "\n",
        "So at depth $i=1$:\n",
        "$$filters_{0} = 32 \\times (2^{1}) \\times 2 = 128$$\n",
        "\n",
        "Run the next cell to add another Conv3D with 128 filters to your network."
      ]
    },
    {
      "cell_type": "code",
      "metadata": {
        "id": "9CrnWtrSXSfA"
      },
      "source": [
        "# Add another Conv3D with 128 filters to your network.\n",
        "down_depth_1_layer_1 = Conv3D(filters=128, \n",
        "                kernel_size=(3,3,3),\n",
        "                padding='same',\n",
        "                strides=(1,1,1)\n",
        "               )(down_depth_1_layer_0)\n",
        "down_depth_1_layer_1 = Activation('relu')(down_depth_1_layer_1)\n",
        "down_depth_1_layer_1"
      ],
      "execution_count": null,
      "outputs": []
    },
    {
      "cell_type": "markdown",
      "metadata": {
        "id": "XpWlRYmxXXCa"
      },
      "source": [
        "### No max pooling at depth 1 (the bottom of the U)\n",
        "\n",
        "When you get to the \"bottom\" of the U-net, you don't need to apply max pooling after the convolutions.\n",
        "\n",
        "## Expanding  (upward) Path\n",
        "\n",
        "Now we work on the expanding path of the U-Net, (going up on the right side, when viewing the diagram).  The image's (height, width, length) all get larger in the expanding path.\n",
        "\n",
        "### Depth 0, Up sampling layer 0\n",
        "\n",
        "We'll use a pool size of (2,2,2) for upsampling.\n",
        "- This is the default value for [tf.keras.layers.UpSampling3D](https://www.tensorflow.org/api_docs/python/tf/keras/layers/UpSampling3D)\n",
        "- As input to the upsampling at depth 1, you'll use the last layer of the downsampling.  In this case, it's the depth 1 layer 1.\n",
        "\n",
        "Run the next cell to add an upsampling operation to your network. \n",
        "Note that you're not adding any activation to this upsampling layer."
      ]
    },
    {
      "cell_type": "code",
      "metadata": {
        "id": "G_dk2EkRXkee"
      },
      "source": [
        "# Add an upsampling operation to your network\n",
        "up_depth_0_layer_0 = UpSampling3D(size=(2,2,2))(down_depth_1_layer_1)\n",
        "up_depth_0_layer_0"
      ],
      "execution_count": null,
      "outputs": []
    },
    {
      "cell_type": "markdown",
      "metadata": {
        "id": "gkGvnggeXpbA"
      },
      "source": [
        "### Concatenate upsampled depth 0 with downsampled depth 0\n",
        "\n",
        "Now you'll apply a concatenation operation using the layers that are both at the same depth of 0.\n",
        "- up_depth_0_layer_0: shape is (?, 128, 160, 160, 16)\n",
        "- depth_0_layer_1: shape is (?, 64, 160, 160, 16)\n",
        "\n",
        "- Double check that both of these layers have the same height, width and length.\n",
        "- If they're the same, then they can be concatenated along axis 1 (the channel axis).\n",
        "- The (height, width, length) is (160, 160, 16) for both.\n",
        "\n",
        "Run the next cell to check that the layers you wish to concatenate have the same height, width and length."
      ]
    },
    {
      "cell_type": "code",
      "metadata": {
        "id": "ejkpU060X1Wm"
      },
      "source": [
        "# Print the shape of layers to concatenate\n",
        "print(up_depth_0_layer_0)\n",
        "print()\n",
        "print(down_depth_0_layer_1)\n",
        "\n",
        "\n",
        "# Add a concatenation along axis 1\n",
        "up_depth_1_concat = concatenate([up_depth_0_layer_0,\n",
        "                                 down_depth_0_layer_1],\n",
        "                                axis=1)\n",
        "up_depth_1_concat"
      ],
      "execution_count": null,
      "outputs": []
    },
    {
      "cell_type": "markdown",
      "metadata": {
        "id": "_5OGmyv2YAMe"
      },
      "source": [
        "### Up-convolution layer 1\n",
        "\n",
        "The number of filters for this layer will be set to the number of channels in the down-convolution's layer 1 at the same depth of 0 (down_depth_0_layer_1).\n",
        "\n",
        "Run the next cell to have a look at the shape of the down-convolution depth 0 layer 1"
      ]
    },
    {
      "cell_type": "code",
      "metadata": {
        "id": "gJDpQUBVYEl9"
      },
      "source": [
        "down_depth_0_layer_1\n"
      ],
      "execution_count": null,
      "outputs": []
    },
    {
      "cell_type": "markdown",
      "metadata": {
        "id": "6ckq0aThYKqG"
      },
      "source": [
        "Notice the number of channels for `depth_0_layer_1` is 64"
      ]
    },
    {
      "cell_type": "code",
      "metadata": {
        "id": "mLkAJKQ-YOKN"
      },
      "source": [
        "print(f\"number of filters: {down_depth_0_layer_1._keras_shape[1]}\")\n",
        "\n",
        "# Add a Conv3D up-convolution with 64 filters to your network\n",
        "up_depth_1_layer_1 = Conv3D(filters=64, \n",
        "                            kernel_size=(3,3,3),\n",
        "                            padding='same',\n",
        "                            strides=(1,1,1)\n",
        "                           )(up_depth_1_concat)\n",
        "up_depth_1_layer_1 = Activation('relu')(up_depth_1_layer_1)\n",
        "up_depth_1_layer_1"
      ],
      "execution_count": null,
      "outputs": []
    },
    {
      "cell_type": "markdown",
      "metadata": {
        "id": "HdQSmpUHYUr3"
      },
      "source": [
        "### Up-convolution depth 0, layer 2\n",
        "\n",
        "At layer 2 of depth 0 in the up-convolution the next step will be to add another up-convolution. The number of filters you'll want to use for this next up-convolution will need to be equal to the number of filters in the down-convolution depth 0 layer 1.\n",
        "\n",
        "Run the next cell to remind yourself of the number of filters in down-convolution depth 0 layer 1."
      ]
    },
    {
      "cell_type": "code",
      "metadata": {
        "id": "kAdYhJ6OYZwh"
      },
      "source": [
        "print(down_depth_0_layer_1)\n",
        "print(f\"number of filters: {down_depth_0_layer_1._keras_shape[1]}\")"
      ],
      "execution_count": null,
      "outputs": []
    },
    {
      "cell_type": "markdown",
      "metadata": {
        "id": "FwE3rKbdYdVD"
      },
      "source": [
        "As you can see, the number of channels / filters in `down_depth_0_layer_1` is 64."
      ]
    },
    {
      "cell_type": "code",
      "metadata": {
        "id": "VRXMy3VlYgP2"
      },
      "source": [
        "# Add a Conv3D up-convolution with 64 filters to your network\n",
        "up_depth_1_layer_2 = Conv3D(filters=64, \n",
        "                            kernel_size=(3,3,3),\n",
        "                            padding='same',\n",
        "                            strides=(1,1,1)\n",
        "                           )(up_depth_1_layer_1)\n",
        "up_depth_1_layer_2 = Activation('relu')(up_depth_1_layer_2)\n",
        "up_depth_1_layer_2"
      ],
      "execution_count": 12,
      "outputs": []
    },
    {
      "cell_type": "markdown",
      "metadata": {
        "id": "FMjKrC0fYqSp"
      },
      "source": [
        "### Final Convolution\n",
        "\n",
        "For the final convolution, you will set the number of filters to be equal to the number of classes in your input data.\n",
        "\n",
        "We will be using data with 3 classes, namely:\n",
        "\n",
        "- 1: edema\n",
        "- 2: non-enhancing tumor \n",
        "- 3: enhancing tumor\n",
        "\n",
        "Run the next cell to add a final Conv3D with 3 filters to your network."
      ]
    },
    {
      "cell_type": "code",
      "metadata": {
        "id": "OWGWoDGkYmyG"
      },
      "source": [
        "# Add a final Conv3D with 3 filters to your network.\n",
        "final_conv = Conv3D(filters=3, #3 categories \n",
        "                    kernel_size=(1,1,1),\n",
        "                    padding='valid',\n",
        "                    strides=(1,1,1)\n",
        "                    )(up_depth_1_layer_2)\n",
        "final_conv"
      ],
      "execution_count": null,
      "outputs": []
    },
    {
      "cell_type": "markdown",
      "metadata": {
        "id": "pK8umOENY0vr"
      },
      "source": [
        "### Activation for final convolution\n",
        "\n",
        "Run the next cell to add a sigmoid activation to your final convolution."
      ]
    },
    {
      "cell_type": "code",
      "metadata": {
        "id": "cYurY2nBY474"
      },
      "source": [
        "# Add a sigmoid activation to your final convolution.\n",
        "final_activation = Activation('sigmoid')(final_conv)\n",
        "final_activation"
      ],
      "execution_count": null,
      "outputs": []
    },
    {
      "cell_type": "code",
      "metadata": {
        "id": "02-jjKvbY_XA"
      },
      "source": [
        "# Define and compile your model\n",
        "model = Model(inputs=input_layer, outputs=final_activation)\n",
        "model.compile(optimizer=Adam(lr=0.00001),\n",
        "              loss='categorical_crossentropy',\n",
        "              metrics=['categorical_accuracy']\n",
        "             )\n",
        "\n",
        "model.summary()"
      ],
      "execution_count": null,
      "outputs": []
    }
  ]
}
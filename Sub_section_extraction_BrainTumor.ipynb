{
  "nbformat": 4,
  "nbformat_minor": 0,
  "metadata": {
    "colab": {
      "name": "Sub-section-extraction-BrainTumor.ipynb",
      "provenance": [],
      "authorship_tag": "ABX9TyNp3Nc5fHUf9e0XvJv3o0mr",
      "include_colab_link": true
    },
    "kernelspec": {
      "name": "python3",
      "display_name": "Python 3"
    }
  },
  "cells": [
    {
      "cell_type": "markdown",
      "metadata": {
        "id": "view-in-github",
        "colab_type": "text"
      },
      "source": [
        "<a href=\"https://colab.research.google.com/github/devangi2000/Disease-Prediction/blob/master/Sub_section_extraction_BrainTumor.ipynb\" target=\"_parent\"><img src=\"https://colab.research.google.com/assets/colab-badge.svg\" alt=\"Open In Colab\"/></a>"
      ]
    },
    {
      "cell_type": "code",
      "metadata": {
        "id": "twTooW8ZGzoQ",
        "outputId": "2154d19c-fea0-4b92-ab85-e6c17f50abac",
        "colab": {
          "base_uri": "https://localhost:8080/",
          "height": 34
        }
      },
      "source": [
        "import numpy as np\n",
        "import keras\n",
        "import pandas as pd\n",
        "\n",
        "# Define a simple one dimensional \"image\" to extract from\n",
        "image = np.array([10,11,12,13,14,15])\n",
        "image\n",
        "\n",
        "# Compute the dimensions of your \"image\"\n",
        "image_length = image.shape[0]\n",
        "print(image_length)"
      ],
      "execution_count": 1,
      "outputs": [
        {
          "output_type": "stream",
          "text": [
            "6\n"
          ],
          "name": "stdout"
        }
      ]
    },
    {
      "cell_type": "markdown",
      "metadata": {
        "id": "1zzvadxSHoFk"
      },
      "source": [
        "### Sub-sections\n",
        "we define a \"patch size\" in three dimensions, that will be the size of the sub-section you want to extract. For this exercise, you only need to define a patch size in one dimension."
      ]
    },
    {
      "cell_type": "code",
      "metadata": {
        "id": "0xJn_vkoHo4H"
      },
      "source": [
        "# Define a patch length, which will be the size of your extracted sub-section\n",
        "patch_length = 3"
      ],
      "execution_count": 2,
      "outputs": []
    },
    {
      "cell_type": "markdown",
      "metadata": {
        "id": "ifsnvG-OIBH3"
      },
      "source": [
        "To extract a patch of length `patch_length` you will first define an index at which to start the patch.\n",
        "\n",
        "Run the next cell to define your start index"
      ]
    },
    {
      "cell_type": "code",
      "metadata": {
        "id": "CZsxTfL_IEn1"
      },
      "source": [
        "# Define your start index\n",
        "start_i = 0"
      ],
      "execution_count": 3,
      "outputs": []
    },
    {
      "cell_type": "markdown",
      "metadata": {
        "id": "29skQXH3INcu"
      },
      "source": [
        "At the end of the next cell you are adding 1 to the start index. Run cell a few times to extract some one dimensional sub-sections from your \"image\"\n",
        "\n",
        "What happens when you run into the edge of the image (when `start_index` is > 3)?"
      ]
    },
    {
      "cell_type": "code",
      "metadata": {
        "id": "lJhP3_K-IUJ-",
        "outputId": "aed2a122-e899-46f5-f652-daa2d024b9b3",
        "colab": {
          "base_uri": "https://localhost:8080/",
          "height": 87
        }
      },
      "source": [
        "# Define an end index given your start index and patch size\n",
        "print(f\"start index {start_i}\")\n",
        "end_i = start_i + patch_length\n",
        "print(f\"end index {end_i}\")\n",
        "\n",
        "# Extract a sub-section from your \"image\"\n",
        "sub_section = image[start_i: end_i]\n",
        "print(\"output patch length: \", len(sub_section))\n",
        "print(\"output patch array: \", sub_section)\n",
        "\n",
        "# Add one to your start index\n",
        "start_i +=1"
      ],
      "execution_count": 4,
      "outputs": [
        {
          "output_type": "stream",
          "text": [
            "start index 0\n",
            "end index 3\n",
            "output patch length:  3\n",
            "output patch array:  [10 11 12]\n"
          ],
          "name": "stdout"
        }
      ]
    },
    {
      "cell_type": "markdown",
      "metadata": {
        "id": "DpKfzmgRIjD4"
      },
      "source": [
        "You'll notice when you run the above multiple times, that eventually the sub-section returned is no longer of length `patch_length`. \n",
        "\n",
        "your neural network will be expecting a particular sub-section size and will not accept inputs of other dimensions. For the start indices, you will be randomly choosing values and you need to ensure that your random number generator is set up to avoid the edges of your image object.\n",
        "\n",
        "The next few code cells include a demonstration of how you could determine the constraints on your start index for the simple one dimensional example."
      ]
    },
    {
      "cell_type": "code",
      "metadata": {
        "id": "Mce8jerZIkh5",
        "outputId": "e7b2ee65-3c0d-445e-95f9-843b6c5d5f97",
        "colab": {
          "base_uri": "https://localhost:8080/",
          "height": 123
        }
      },
      "source": [
        "# Set your start index to 3 to extract a valid patch\n",
        "start_i = 3\n",
        "print(f\"start index {start_i}\")\n",
        "end_i = start_i + patch_length\n",
        "print(f\"end index {end_i}\")\n",
        "sub_section = image[start_i: end_i]\n",
        "print(\"output patch array: \", sub_section)\n",
        "\n",
        "# Compute and print the largest valid value for start index\n",
        "print(f\"The largest start index for which \"\n",
        "      f\"a sub section is still valid is \"\n",
        "      f\"{image_length - patch_length}\")\n",
        "# Compute and print the range of valid start indices\n",
        "print(f\"The range of valid start indices is:\")\n",
        "\n",
        "# Compute valid start indices, note the range() function excludes the upper bound\n",
        "valid_start_i = [i for i in range(image_length - patch_length + 1)]\n",
        "print(valid_start_i)"
      ],
      "execution_count": 5,
      "outputs": [
        {
          "output_type": "stream",
          "text": [
            "start index 3\n",
            "end index 6\n",
            "output patch array:  [13 14 15]\n",
            "The largest start index for which a sub section is still valid is 3\n",
            "The range of valid start indices is:\n",
            "[0, 1, 2, 3]\n"
          ],
          "name": "stdout"
        }
      ]
    },
    {
      "cell_type": "markdown",
      "metadata": {
        "id": "tB-4evF2JX2X"
      },
      "source": [
        "### Random selection of start indices\n",
        "We need to randomly select a valid integer for the start index in each of three dimensions. The way to do this is by following the logic above to identify valid start indices and then selecting randomly from that range of valid numbers.\n",
        "\n",
        "Run the next cell to select a valid start index for the one dimensional example"
      ]
    },
    {
      "cell_type": "code",
      "metadata": {
        "id": "dLVD8kx3Jc6I",
        "outputId": "abb23bee-bacf-4483-983a-fcfd472bf516",
        "colab": {
          "base_uri": "https://localhost:8080/",
          "height": 212
        }
      },
      "source": [
        "# Choose a random start index, note the np.random.randint() function excludes the upper bound.\n",
        "start_i = np.random.randint(image_length - patch_length + 1)\n",
        "print(f\"randomly selected start index {start_i}\")\n",
        "\n",
        "# Randomly select multiple start indices in a loop\n",
        "for _ in range(10):\n",
        "    start_i = np.random.randint(image_length - patch_length + 1)\n",
        "    print(f\"randomly selected start index {start_i}\")"
      ],
      "execution_count": 6,
      "outputs": [
        {
          "output_type": "stream",
          "text": [
            "randomly selected start index 0\n",
            "randomly selected start index 3\n",
            "randomly selected start index 0\n",
            "randomly selected start index 1\n",
            "randomly selected start index 3\n",
            "randomly selected start index 3\n",
            "randomly selected start index 0\n",
            "randomly selected start index 3\n",
            "randomly selected start index 2\n",
            "randomly selected start index 3\n",
            "randomly selected start index 0\n"
          ],
          "name": "stdout"
        }
      ]
    },
    {
      "cell_type": "markdown",
      "metadata": {
        "id": "QwuRj-lxJwF2"
      },
      "source": [
        "### Background Ratio\n",
        "\n",
        "Another thing is to compute the ratio of background to edema and tumorous regions. You will be provided with a file containing labels with these categories:\n",
        "\n",
        "* 0: background\n",
        "* 1: edema\n",
        "* 2: non-enhancing tumor\n",
        "* 3: enhancing tumor\n",
        "\n",
        "Let's try to demonstrate this in 1-D to get some intuition on how to implement it in 3D later in the assignment."
      ]
    },
    {
      "cell_type": "code",
      "metadata": {
        "id": "ePRTWgCBJooA",
        "outputId": "bd8330c2-20c1-40eb-adec-b092b5cd1688",
        "colab": {
          "base_uri": "https://localhost:8080/",
          "height": 354
        }
      },
      "source": [
        "# We first simulate input data by defining a random patch of length 16. This will contain labels \n",
        "# with the categories (0 to 3) as defined above.\n",
        "\n",
        "patch_labels = np.random.randint(0, 4, (16))\n",
        "print(patch_labels)\n",
        "\n",
        "# A straightforward approach to get the background ratio is\n",
        "# to count the number of 0's and divide by the patch length\n",
        "\n",
        "bgrd_ratio = np.count_nonzero(patch_labels == 0) / len(patch_labels)\n",
        "print(\"using np.count_nonzero(): \", bgrd_ratio)\n",
        "\n",
        "bgrd_ratio = len(np.where(patch_labels == 0)[0]) / len(patch_labels)\n",
        "print(\"using np.where(): \", bgrd_ratio)\n",
        "\n",
        "# However, take note that we'll use our label array to train a neural network\n",
        "# so we can opt to compute the ratio a bit later after we do some preprocessing. \n",
        "# First, we convert the label's categories into one-hot format so it can be used to train the model\n",
        "\n",
        "patch_labels_one_hot = keras.utils.to_categorical(patch_labels, num_classes=4)\n",
        "print(patch_labels_one_hot)"
      ],
      "execution_count": 7,
      "outputs": [
        {
          "output_type": "stream",
          "text": [
            "[3 3 3 0 3 0 0 3 2 1 0 2 2 1 2 3]\n",
            "using np.count_nonzero():  0.25\n",
            "using np.where():  0.25\n",
            "[[0. 0. 0. 1.]\n",
            " [0. 0. 0. 1.]\n",
            " [0. 0. 0. 1.]\n",
            " [1. 0. 0. 0.]\n",
            " [0. 0. 0. 1.]\n",
            " [1. 0. 0. 0.]\n",
            " [1. 0. 0. 0.]\n",
            " [0. 0. 0. 1.]\n",
            " [0. 0. 1. 0.]\n",
            " [0. 1. 0. 0.]\n",
            " [1. 0. 0. 0.]\n",
            " [0. 0. 1. 0.]\n",
            " [0. 0. 1. 0.]\n",
            " [0. 1. 0. 0.]\n",
            " [0. 0. 1. 0.]\n",
            " [0. 0. 0. 1.]]\n"
          ],
          "name": "stdout"
        }
      ]
    },
    {
      "cell_type": "markdown",
      "metadata": {
        "id": "36fxQ5YvKHK8"
      },
      "source": [
        "**Note**: We hardcoded the number of classes to 4 in our simple example above.\n",
        "You should take into account that the label file can have\n",
        "a different number of categories"
      ]
    },
    {
      "cell_type": "code",
      "metadata": {
        "id": "trytTkXiKGNK",
        "outputId": "67fe7dbe-1ca3-42c2-88b7-8c4fcdc9cf80",
        "colab": {
          "base_uri": "https://localhost:8080/",
          "height": 52
        }
      },
      "source": [
        "# Let's convert the output to a dataframe just so we can see the labels more clearly\n",
        "\n",
        "pd.DataFrame(patch_labels_one_hot, columns=['background', 'edema', 'non-enhancing tumor', 'enhancing tumor'])\n",
        "\n",
        "\n",
        "# What we're interested in is the first column because that \n",
        "# indicates if the element is part of the background\n",
        "# In this case, 1 = background, 0 = non-background\n",
        "\n",
        "print(\"background column: \", patch_labels_one_hot[:,0])\n",
        "\n",
        "\n",
        "# we can compute the background ratio by counting the number of 1's \n",
        "# in the said column divided by the length of the patch\n",
        "\n",
        "bgrd_ratio = np.sum(patch_labels_one_hot[:,0])/ len(patch_labels)\n",
        "print(\"using one-hot column: \", bgrd_ratio)"
      ],
      "execution_count": 8,
      "outputs": [
        {
          "output_type": "stream",
          "text": [
            "background column:  [0. 0. 0. 1. 0. 1. 1. 0. 0. 0. 1. 0. 0. 0. 0. 0.]\n",
            "using one-hot column:  0.25\n"
          ],
          "name": "stdout"
        }
      ]
    },
    {
      "cell_type": "code",
      "metadata": {
        "id": "IhcgFdODKcO7"
      },
      "source": [
        ""
      ],
      "execution_count": null,
      "outputs": []
    }
  ]
}